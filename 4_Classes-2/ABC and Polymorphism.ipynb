{
 "cells": [
  {
   "cell_type": "markdown",
   "metadata": {},
   "source": [
    "**Animals**"
   ]
  },
  {
   "cell_type": "code",
   "execution_count": 1,
   "metadata": {},
   "outputs": [],
   "source": [
    "from abc import ABC, abstractmethod"
   ]
  },
  {
   "cell_type": "code",
   "execution_count": 2,
   "metadata": {},
   "outputs": [],
   "source": [
    "#Create a common animals class\n",
    "class animal(ABC):\n",
    "    def __init__(self,legs,sound,wings=False):\n",
    "        self.legs = legs\n",
    "        self.sound = sound\n",
    "        self.wings = wings\n",
    "        #declare a protected variable\n",
    "        \n",
    "    def get_legs(self):\n",
    "        print(\"{} has {} legs.\".format(self.__str__(), self.legs))\n",
    "    \n",
    "    def speak(self):\n",
    "        print(\"{}\".format(self.sound))\n",
    "        \n",
    "    def print_unique(self):\n",
    "        print(self.get_unique())\n",
    "        \n",
    "    #Declare an abstract method\n",
    "    @abstractmethod\n",
    "    def say_hello(self):\n",
    "        pass\n",
    "    \n",
    "class bat(animal):\n",
    "    def __init__(self, legs=2, sound='screech', wings=True):\n",
    "        animal.__init__(self, legs, sound, wings)\n",
    "        #every animal has a protected 'unique' variable\n",
    "        self.__unique = \"Can't see. Uses ultrasound to search for prey\"\n",
    "        \n",
    "    def __str__(self):\n",
    "        return \"Bat\"\n",
    "    \n",
    "    def get_unique(self):\n",
    "        return self.__unique\n",
    "    \n",
    "class bear(animal):\n",
    "    def __init__(self, legs=4, sound='growl', wings=False):\n",
    "        animal.__init__(self, legs, sound, wings)\n",
    "        #every animal has a protected 'unique' variable\n",
    "        self.__unique = \"Love to eat Fish!\"\n",
    "        \n",
    "    def __str__(self):\n",
    "        return \"Bear\"\n",
    "    \n",
    "    def get_unique(self):\n",
    "        return self.__unique\n",
    "    \n",
    "class cat(animal):\n",
    "    def __init__(self, legs=4, sound='meow', wings=False):\n",
    "        animal.__init__(self, legs, sound, wings)\n",
    "        #every animal has a protected 'unique' variable\n",
    "        self.__unique = \"I can also purr!\"\n",
    "        \n",
    "    def __str__(self):\n",
    "        return \"Cat\"\n",
    "    \n",
    "    def get_unique(self):\n",
    "        return self.__unique\n",
    "    \n",
    "class cow(animal):\n",
    "    def __init__(self, legs=4, sound='moo', wings=False):\n",
    "        animal.__init__(self, legs, sound, wings)\n",
    "        #every animal has a protected 'unique' variable\n",
    "        self.__unique = \"Gives you Milk!\"\n",
    "        \n",
    "    def __str__(self):\n",
    "        return \"Cow\"\n",
    "    \n",
    "    def get_unique(self):\n",
    "        return self.__unique\n",
    "    \n",
    "class dog(animal):\n",
    "    def __init__(self, legs=4, sound='bark', wings=False):\n",
    "        animal.__init__(self, legs, sound, wings)\n",
    "        #every animal has a protected 'unique' variable\n",
    "        self.__unique = \"Man's best friend\"\n",
    "        \n",
    "    def __str__(self):\n",
    "        return \"Dog\"\n",
    "    \n",
    "    def get_unique(self):\n",
    "        return self.__unique\n",
    "    \n",
    "class dove(animal):\n",
    "    def __init__(self, legs=2, sound='coo', wings=True):\n",
    "        animal.__init__(self, legs, sound, wings)\n",
    "        #every animal has a protected 'unique' variable\n",
    "        self.__unique = \"Represent peace!\"\n",
    "        \n",
    "    def __str__(self):\n",
    "        return \"Dove\"\n",
    "    \n",
    "    def get_unique(self):\n",
    "        return self.__unique\n",
    "\n",
    "class elephant(animal):\n",
    "    def __init__(self, legs=4, sound='trumpet', wings=False):\n",
    "        animal.__init__(self, legs, sound, wings)\n",
    "        #every animal has a protected 'unique' variable\n",
    "        self.__unique = \"Big ears!\"\n",
    "        \n",
    "    def __str__(self):\n",
    "        return \"Elephant\"\n",
    "    \n",
    "    def get_unique(self):\n",
    "        return self.__unique\n",
    "    \n",
    "class frog(animal):\n",
    "    def __init__(self, legs=4, sound='croak', wings=False):\n",
    "        animal.__init__(self, legs, sound, wings)\n",
    "        #every animal has a protected 'unique' variable\n",
    "        self.__unique = \"Loves swampy places!\"\n",
    "        \n",
    "    def __str__(self):\n",
    "        return \"Frog\"\n",
    "    \n",
    "    def get_unique(self):\n",
    "        return self.__unique\n",
    "    \n",
    "    def say_hello(self):\n",
    "        print(\"Hello, I am a {}\\n\".format(self.__str__()))\n",
    "    \n",
    "class grasshopper(animal):\n",
    "    def __init__(self, legs=6, sound='chirp', wings=True):\n",
    "        animal.__init__(self, legs, sound, wings)\n",
    "        #every animal has a protected 'unique' variable\n",
    "        self.__unique = \"Greeeeeen!\"\n",
    "        \n",
    "    def __str__(self):\n",
    "        return \"Grasshopper\"\n",
    "    \n",
    "    def get_unique(self):\n",
    "        return self.__unique\n",
    "    \n",
    "class owl(animal):\n",
    "    def __init__(self, legs=2, sound='hoot', wings=True):\n",
    "        animal.__init__(self, legs, sound, wings)\n",
    "        #every animal has a protected 'unique' variable\n",
    "        self.__unique = \"Big eyes, can see it in the night!\"\n",
    "        \n",
    "    def __str__(self):\n",
    "        return \"Owl\"\n",
    "    \n",
    "    def get_unique(self):\n",
    "        return self.__unique\n",
    "        "
   ]
  },
  {
   "cell_type": "code",
   "execution_count": 3,
   "metadata": {},
   "outputs": [
    {
     "ename": "TypeError",
     "evalue": "Can't instantiate abstract class owl with abstract methods say_hello",
     "output_type": "error",
     "traceback": [
      "\u001b[1;31m---------------------------------------------------------------------------\u001b[0m",
      "\u001b[1;31mTypeError\u001b[0m                                 Traceback (most recent call last)",
      "\u001b[1;32m<ipython-input-3-033e54195ba3>\u001b[0m in \u001b[0;36m<module>\u001b[1;34m\u001b[0m\n\u001b[0;32m      1\u001b[0m \u001b[1;31m#Since owl has no definition of the abstract method \"Say_hello\", we cannot instantiate an object\u001b[0m\u001b[1;33m\u001b[0m\u001b[1;33m\u001b[0m\u001b[1;33m\u001b[0m\u001b[0m\n\u001b[0;32m      2\u001b[0m \u001b[1;31m# owl.\u001b[0m\u001b[1;33m\u001b[0m\u001b[1;33m\u001b[0m\u001b[1;33m\u001b[0m\u001b[0m\n\u001b[1;32m----> 3\u001b[1;33m \u001b[0mo1\u001b[0m \u001b[1;33m=\u001b[0m \u001b[0mowl\u001b[0m\u001b[1;33m(\u001b[0m\u001b[1;33m)\u001b[0m\u001b[1;33m\u001b[0m\u001b[1;33m\u001b[0m\u001b[0m\n\u001b[0m",
      "\u001b[1;31mTypeError\u001b[0m: Can't instantiate abstract class owl with abstract methods say_hello"
     ]
    }
   ],
   "source": [
    "#Since owl has no definition of the abstract method \"Say_hello\", we cannot instantiate an object\n",
    "# owl.\n",
    "o1 = owl()"
   ]
  },
  {
   "cell_type": "code",
   "execution_count": 4,
   "metadata": {},
   "outputs": [
    {
     "name": "stdout",
     "output_type": "stream",
     "text": [
      "Hello, I am a Frog\n",
      "\n"
     ]
    }
   ],
   "source": [
    "#  But since we have defined the abstact method in frog class, we can instantiate that.\n",
    "# Hence this is also example of interface. Here we use function overloading to be able to \n",
    "# instantiate an object of the abstract class.\n",
    "f1 = frog()\n",
    "f1.say_hello()"
   ]
  },
  {
   "cell_type": "markdown",
   "metadata": {},
   "source": [
    "**Shapes**"
   ]
  },
  {
   "cell_type": "code",
   "execution_count": 5,
   "metadata": {},
   "outputs": [],
   "source": [
    "#module for shape is created in the directory. To demonstrate modularity\n",
    "from shapes import *"
   ]
  },
  {
   "cell_type": "code",
   "execution_count": 6,
   "metadata": {},
   "outputs": [],
   "source": [
    "e1 = equilateral(4)"
   ]
  },
  {
   "cell_type": "code",
   "execution_count": 7,
   "metadata": {},
   "outputs": [
    {
     "name": "stdout",
     "output_type": "stream",
     "text": [
      "6.928203230275509\n"
     ]
    }
   ],
   "source": [
    "# Function was overlaoded from the interface. hence the private variables are accessed and area\n",
    "# is printed. This is example of polymorphism\n",
    "e1.get_area()"
   ]
  },
  {
   "cell_type": "code",
   "execution_count": null,
   "metadata": {},
   "outputs": [],
   "source": []
  }
 ],
 "metadata": {
  "kernelspec": {
   "display_name": "Python 3",
   "language": "python",
   "name": "python3"
  },
  "language_info": {
   "codemirror_mode": {
    "name": "ipython",
    "version": 3
   },
   "file_extension": ".py",
   "mimetype": "text/x-python",
   "name": "python",
   "nbconvert_exporter": "python",
   "pygments_lexer": "ipython3",
   "version": "3.7.4"
  }
 },
 "nbformat": 4,
 "nbformat_minor": 2
}
